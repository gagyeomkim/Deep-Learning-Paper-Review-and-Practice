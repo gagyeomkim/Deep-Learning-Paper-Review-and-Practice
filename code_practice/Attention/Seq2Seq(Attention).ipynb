{
  "nbformat": 4,
  "nbformat_minor": 0,
  "metadata": {
    "colab": {
      "provenance": [],
      "authorship_tag": "ABX9TyMkcS7XEyWsjNdyFKryKWVB",
      "include_colab_link": true
    },
    "kernelspec": {
      "name": "python3",
      "display_name": "Python 3"
    },
    "language_info": {
      "name": "python"
    }
  },
  "cells": [
    {
      "cell_type": "markdown",
      "metadata": {
        "id": "view-in-github",
        "colab_type": "text"
      },
      "source": [
        "<a href=\"https://colab.research.google.com/github/gagyeomkim/Deep-Learning-Paper-Review-and-Practice/blob/main/code_practice/Attention/Seq2Seq(Attention).ipynb\" target=\"_parent\"><img src=\"https://colab.research.google.com/assets/colab-badge.svg\" alt=\"Open In Colab\"/></a>"
      ]
    },
    {
      "cell_type": "markdown",
      "source": [
        "## Luong의 General Version의 Attention 구현\n",
        "- code by: https://github.com/graykode/nlp-tutorial"
      ],
      "metadata": {
        "id": "3i35sPK-O1aJ"
      }
    },
    {
      "cell_type": "code",
      "execution_count": 1,
      "metadata": {
        "id": "VoWZaX5lF7fQ"
      },
      "outputs": [],
      "source": [
        "import numpy as np\n",
        "import torch\n",
        "import torch.nn as nn\n",
        "import torch.nn.functional as F\n",
        "import matplotlib.pyplot as plt"
      ]
    },
    {
      "cell_type": "code",
      "source": [
        "# S: Symbol that shows starting of decoding input\n",
        "# E: Symbol that shows starting of decoding output\n",
        "# P: Symbol that will fill in blank sequence if current batch data size is short than time steps\n",
        "\n",
        "def make_batch():\n",
        "    input_batch = [np.eye(n_class)[[word_dict[n] for n in sentences[0].split()]]]\n",
        "    output_batch = [np.eye(n_class)[[word_dict[n] for n in sentences[1].split()]]]\n",
        "    target_batch = [[word_dict[n] for n in sentences[2].split()]]   # 배치 차원때문에, 대괄호 2개 써서 묶어줌\n",
        "\n",
        "    # make tensor\n",
        "    return torch.FloatTensor(input_batch), torch.FloatTensor(output_batch), torch.LongTensor(target_batch)\n",
        "\n",
        "# model\n",
        "class Attention(nn.Module):\n",
        "    def __init__(self):\n",
        "        super(Attention, self).__init__()\n",
        "        self.enc_cell = nn.RNN(input_size=n_class, hidden_size=n_hidden, dropout=0.5)\n",
        "        self.dec_cell = nn.RNN(input_size=n_class, hidden_size=n_hidden, dropout=0.5)\n",
        "\n",
        "        # Linear for attention\n",
        "        self.attn = nn.Linear(n_hidden, n_hidden)\n",
        "        self.out = nn.Linear(n_hidden * 2, n_class)\n",
        "\n",
        "    def forward(self, enc_inputs, hidden, dec_inputs):\n",
        "        enc_inputs = enc_inputs.transpose(0, 1) # enc_inputs: [max_len(=n_step; time_step), batch_size, n_class]\n",
        "        dec_inputs = dec_inputs.transpose(0, 1) # dec_inputs: [max_len(=n_step; time step), batch_size(=1), n_class]\n",
        "\n",
        "        # enc_outputs: [max_len(=n_step), batch_size, num_direction(=1) * n_hidden]\n",
        "        # enc_hidden: [num_layers(=1) * num_directions(=1), batch_size, n_hidden]\n",
        "        enc_outputs, enc_hidden = self.enc_cell(enc_inputs, hidden)\n",
        "\n",
        "        trained_attn = []\n",
        "        hidden =enc_hidden\n",
        "        n_step = len(dec_inputs)\n",
        "        model = torch.empty([n_step, 1, n_class])   # 1은 batch 크기\n",
        "\n",
        "        # -- Decoder --\n",
        "        for i in range(n_step): # each time step\n",
        "            # dec_inputs[i]: [batch_size, n_class]\n",
        "            # dec_output: [max_len(=n_step=1),batch_size(=1),num_directions(=1)*n_hidden]\n",
        "            # hidden: [num_layers(=1) * num_directions(=1), batch_size(=1), n_hidden]\n",
        "            dec_output, hidden = self.dec_cell(dec_inputs[i].unsqueeze(0), hidden)\n",
        "            attn_weights = self.get_att_weight(dec_output, enc_outputs) # attn_weights: [1, 1, n_step]\n",
        "            trained_attn.append(attn_weights.squeeze().detach().numpy())\n",
        "\n",
        "            # matrix-matrix product of matrices: [1,1,n_step] x [batch_size(학습데이터가 1개였으므로, 1), n_step, n_hidden] = [1, 1, n_hidden]\n",
        "            context = attn_weights.bmm(enc_outputs.transpose(0,1))\n",
        "\n",
        "            # --- concatenate ---\n",
        "            dec_output = dec_output.squeeze(0)  # [batch_size(=1), num_direcitons(=1) * n_hidden]\n",
        "            context = context.squeeze(1)    # [1, num_directions(=1) * n_hidden]\n",
        "            # torch.cat((dec_output, context), 1): [1, n_hidden * 2]\n",
        "            model[i] = self.out(torch.cat((dec_output, context), 1))    # model[i]: [1, n_class] <- n_step개 만큼 채워 넣음\n",
        "\n",
        "        # make model shape [n_step, n_class]\n",
        "        # model: [n_step, 1, n_class]\n",
        "        return model.transpose(0, 1).squeeze(0), trained_attn\n",
        "\n",
        "\n",
        "    def get_att_weight(self, dec_output, enc_outputs):  # get attention weight one 'dec_output' with 'enc_outputs'\n",
        "        \"\"\"\n",
        "        dec_output: [max_len(=n_step=1),batch_size(=1),num_directions(=1) * n_hidden]\n",
        "        enc_outputs: [max_len(=n_step), batch_size, num_direction(=1) * n_hidden]\n",
        "        \"\"\"\n",
        "        n_step = len(enc_outputs)\n",
        "        attn_scores = torch.zeros(n_step)   # attn_scores: [n_step]\n",
        "\n",
        "        for i in range(n_step): # encoder의 각 time step 별 output과의 score 구함\n",
        "            attn_scores[i] = self.get_att_score(dec_output, enc_outputs[i])\n",
        "\n",
        "        # Normalize scores to weights in range 0 to 1\n",
        "        return F.softmax(attn_scores).view(1, 1, -1)    # [1, 1, n_step]\n",
        "\n",
        "    def get_att_score(self, dec_output, enc_output):\n",
        "        \"\"\"\n",
        "        dec_output: [max_len(=n_step=1),batch_size(=1),num_directions(=1) * n_hidden] = [1, 1, n_hidden]\n",
        "        enc_output: [batch_size, num_directions(=1)*n_hidden] = [batch_size, n_hidden]\n",
        "        \"\"\"\n",
        "        # score: [batch_size, n_hidden]\n",
        "        score = self.attn(enc_output)\n",
        "        return torch.dot(dec_output.view(-1), score.view(-1))    # inner product make scalar value\n",
        "\n",
        "\n",
        "\n",
        "if __name__==\"__main__\":\n",
        "    n_step = 5  # number of cells(=number of Step)\n",
        "    n_hidden = 128  # number of hidden units in one cell\n",
        "\n",
        "    sentences = ['ich mochte ein bier P', 'S i want a beer', 'i want a beer E']\n",
        "\n",
        "    word_list = \" \".join(sentences).split()\n",
        "    word_list = list(set(word_list))\n",
        "    word_dict = {w:i for i,w in enumerate(word_list)}   # word2index\n",
        "    number_dict = {i:w for i, w in enumerate(word_list)}    # index2word\n",
        "    n_class = len(word_dict)    # vocabulary\n",
        "\n",
        "    # hidden: [num_layers(=1)*num_directions(=1), batch_size, n_hidden]\n",
        "    hidden = torch.zeros(1, 1, n_hidden)\n",
        "    input_batch, output_batch, target_batch = make_batch()\n",
        "\n",
        "    model = Attention()\n",
        "    criterion = nn.CrossEntropyLoss()\n",
        "    optimizer = torch.optim.Adam(model.parameters(), lr=0.001)\n",
        "\n",
        "    # Train\n",
        "    for epoch in range(2000):\n",
        "        optimizer.zero_grad()\n",
        "        output, _ = model(input_batch, hidden, output_batch)\n",
        "\n",
        "        loss = criterion(output, target_batch.squeeze(0))\n",
        "        if (epoch + 1) % 400 == 0:\n",
        "            print(f'Epoch: {epoch+1:#04d} cost: {loss:.6f}')\n",
        "\n",
        "        loss.backward()\n",
        "        optimizer.step()\n",
        "\n",
        "    # Test\n",
        "    test_batch = [np.eye(n_class)[[word_dict[n] for n in 'SPPPP']]]\n",
        "    test_batch = torch.FloatTensor(test_batch)\n",
        "    predict, trained_attn = model(input_batch, hidden, test_batch)\n",
        "    predict = torch.argmax(predict, dim=1)\n",
        "    print(sentences[0],'->', [number_dict[n.item()] for n in predict.squeeze()])"
      ],
      "metadata": {
        "colab": {
          "base_uri": "https://localhost:8080/"
        },
        "id": "9cjAlfhIGkV0",
        "outputId": "7acd798a-85c4-4d7a-925b-b3533e7d7eee"
      },
      "execution_count": 2,
      "outputs": [
        {
          "output_type": "stream",
          "name": "stderr",
          "text": [
            "/tmp/ipython-input-1566663511.py:11: UserWarning: Creating a tensor from a list of numpy.ndarrays is extremely slow. Please consider converting the list to a single numpy.ndarray with numpy.array() before converting to a tensor. (Triggered internally at /pytorch/torch/csrc/utils/tensor_new.cpp:254.)\n",
            "  return torch.FloatTensor(input_batch), torch.FloatTensor(output_batch), torch.LongTensor(target_batch)\n",
            "/usr/local/lib/python3.11/dist-packages/torch/nn/modules/rnn.py:123: UserWarning: dropout option adds dropout after all but last recurrent layer, so non-zero dropout expects num_layers greater than 1, but got dropout=0.5 and num_layers=1\n",
            "  warnings.warn(\n",
            "/tmp/ipython-input-1566663511.py:72: UserWarning: Implicit dimension choice for softmax has been deprecated. Change the call to include dim=X as an argument.\n",
            "  return F.softmax(attn_scores).view(1, 1, -1)    # [1, 1, n_step]\n"
          ]
        },
        {
          "output_type": "stream",
          "name": "stdout",
          "text": [
            "Epoch: 0400 cost: 0.000463\n",
            "Epoch: 0800 cost: 0.000149\n",
            "Epoch: 1200 cost: 0.000074\n",
            "Epoch: 1600 cost: 0.000043\n",
            "Epoch: 2000 cost: 0.000028\n",
            "ich mochte ein bier P -> ['i', 'want', 'a', 'beer', 'E']\n"
          ]
        }
      ]
    },
    {
      "cell_type": "markdown",
      "source": [
        "- `len()`: 0번째 차원의 크기 반환"
      ],
      "metadata": {
        "id": "2J6ar5TkKEr1"
      }
    },
    {
      "cell_type": "code",
      "source": [
        "# Show Attention\n",
        "fig = plt.figure(figsize=(5, 5))\n",
        "ax = fig.add_subplot(1, 1, 1)\n",
        "ax.matshow(trained_attn, cmap='viridis')\n",
        "ax.set_xticklabels([''] + sentences[0].split(), fontdict={'fontsize': 14})\n",
        "ax.set_yticklabels([''] + sentences[2].split(), fontdict={'fontsize': 14})\n",
        "plt.show()"
      ],
      "metadata": {
        "colab": {
          "base_uri": "https://localhost:8080/",
          "height": 544
        },
        "id": "dwZce5EAVdto",
        "outputId": "0968a750-c2be-487d-b2aa-f4787317c7d9"
      },
      "execution_count": 3,
      "outputs": [
        {
          "output_type": "stream",
          "name": "stderr",
          "text": [
            "/tmp/ipython-input-2673449293.py:5: UserWarning: set_ticklabels() should only be used with a fixed number of ticks, i.e. after set_ticks() or using a FixedLocator.\n",
            "  ax.set_xticklabels([''] + sentences[0].split(), fontdict={'fontsize': 14})\n",
            "/tmp/ipython-input-2673449293.py:6: UserWarning: set_ticklabels() should only be used with a fixed number of ticks, i.e. after set_ticks() or using a FixedLocator.\n",
            "  ax.set_yticklabels([''] + sentences[2].split(), fontdict={'fontsize': 14})\n"
          ]
        },
        {
          "output_type": "display_data",
          "data": {
            "text/plain": [
              "<Figure size 500x500 with 1 Axes>"
            ],
            "image/png": "[encoded data removed]"
          },
          "metadata": {}
        }
      ]
    },
    {
      "cell_type": "markdown",
      "source": [
        "-  특정 위치 (x, y)의 사각형 색이 밝을수록, 모델이 y축 단어를 생성할 때 x축 단어를 강하게 참고했다는 의미임"
      ],
      "metadata": {
        "id": "6djZrScWWzya"
      }
    },
    {
      "cell_type": "markdown",
      "source": [
        "### Code Test"
      ],
      "metadata": {
        "id": "oSEVs6bzWtkd"
      }
    },
    {
      "cell_type": "code",
      "source": [
        "target_batch = [[word_dict[n] for n in sentences[2].split()]]\n",
        "torch.LongTensor(target_batch).shape"
      ],
      "metadata": {
        "colab": {
          "base_uri": "https://localhost:8080/"
        },
        "id": "kaJ53kzdIewS",
        "outputId": "7313503e-1088-48f3-b87d-d4a59f9c7777"
      },
      "execution_count": 4,
      "outputs": [
        {
          "output_type": "execute_result",
          "data": {
            "text/plain": [
              "torch.Size([1, 5])"
            ]
          },
          "metadata": {},
          "execution_count": 4
        }
      ]
    }
  ]
}